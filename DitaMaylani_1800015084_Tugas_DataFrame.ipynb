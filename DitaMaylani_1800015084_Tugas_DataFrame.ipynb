{
  "nbformat": 4,
  "nbformat_minor": 0,
  "metadata": {
    "colab": {
      "name": "DitaMaylani_1800015084_Tugas_DataFrame.ipynb",
      "provenance": [],
      "collapsed_sections": [],
      "toc_visible": true,
      "include_colab_link": true
    },
    "kernelspec": {
      "name": "python3",
      "display_name": "Python 3"
    },
    "language_info": {
      "name": "python"
    }
  },
  "cells": [
    {
      "cell_type": "markdown",
      "metadata": {
        "id": "view-in-github",
        "colab_type": "text"
      },
      "source": [
        "<a href=\"https://colab.research.google.com/github/ditamaylani/Basic-Python-Programming-for-Data-Science/blob/main/DitaMaylani_1800015084_Tugas_DataFrame.ipynb\" target=\"_parent\"><img src=\"https://colab.research.google.com/assets/colab-badge.svg\" alt=\"Open In Colab\"/></a>"
      ]
    },
    {
      "cell_type": "markdown",
      "metadata": {
        "id": "TQTRIrnnv1d1"
      },
      "source": [
        "## Dataset"
      ]
    },
    {
      "cell_type": "code",
      "metadata": {
        "id": "hKHEUeL2tgwL"
      },
      "source": [
        "import pandas as pd\n",
        "import numpy as np"
      ],
      "execution_count": 3,
      "outputs": []
    },
    {
      "cell_type": "code",
      "metadata": {
        "colab": {
          "base_uri": "https://localhost:8080/",
          "height": 419
        },
        "id": "v1AmW3H0v4js",
        "outputId": "3401cfea-ce29-46df-8b8c-7ea90ef72ef9"
      },
      "source": [
        "df = pd.read_csv(\"https://raw.githubusercontent.com/jokoeliyanto/Kelas-Dasar-Pejuang-Data-2.0/main/Super-Store-Dataset.csv\")\n",
        "df"
      ],
      "execution_count": 4,
      "outputs": [
        {
          "output_type": "execute_result",
          "data": {
            "text/html": [
              "<div>\n",
              "<style scoped>\n",
              "    .dataframe tbody tr th:only-of-type {\n",
              "        vertical-align: middle;\n",
              "    }\n",
              "\n",
              "    .dataframe tbody tr th {\n",
              "        vertical-align: top;\n",
              "    }\n",
              "\n",
              "    .dataframe thead th {\n",
              "        text-align: right;\n",
              "    }\n",
              "</style>\n",
              "<table border=\"1\" class=\"dataframe\">\n",
              "  <thead>\n",
              "    <tr style=\"text-align: right;\">\n",
              "      <th></th>\n",
              "      <th>order_id</th>\n",
              "      <th>order_date</th>\n",
              "      <th>customer_id</th>\n",
              "      <th>segment</th>\n",
              "      <th>category</th>\n",
              "      <th>sub_category</th>\n",
              "      <th>sales</th>\n",
              "      <th>quantity</th>\n",
              "      <th>profit</th>\n",
              "    </tr>\n",
              "  </thead>\n",
              "  <tbody>\n",
              "    <tr>\n",
              "      <th>0</th>\n",
              "      <td>CA-2016-152156</td>\n",
              "      <td>11/8/2016</td>\n",
              "      <td>CG-12520</td>\n",
              "      <td>Consumer</td>\n",
              "      <td>Furniture</td>\n",
              "      <td>Bookcases</td>\n",
              "      <td>261.9600</td>\n",
              "      <td>2</td>\n",
              "      <td>41.9136</td>\n",
              "    </tr>\n",
              "    <tr>\n",
              "      <th>1</th>\n",
              "      <td>CA-2016-152156</td>\n",
              "      <td>11/8/2016</td>\n",
              "      <td>CG-12520</td>\n",
              "      <td>Consumer</td>\n",
              "      <td>Furniture</td>\n",
              "      <td>Chairs</td>\n",
              "      <td>731.9400</td>\n",
              "      <td>3</td>\n",
              "      <td>219.5820</td>\n",
              "    </tr>\n",
              "    <tr>\n",
              "      <th>2</th>\n",
              "      <td>CA-2016-138688</td>\n",
              "      <td>6/12/2016</td>\n",
              "      <td>DV-13045</td>\n",
              "      <td>Corporate</td>\n",
              "      <td>Office Supplies</td>\n",
              "      <td>Labels</td>\n",
              "      <td>14.6200</td>\n",
              "      <td>2</td>\n",
              "      <td>6.8714</td>\n",
              "    </tr>\n",
              "    <tr>\n",
              "      <th>3</th>\n",
              "      <td>US-2015-108966</td>\n",
              "      <td>10/11/2015</td>\n",
              "      <td>SO-20335</td>\n",
              "      <td>Consumer</td>\n",
              "      <td>Furniture</td>\n",
              "      <td>Tables</td>\n",
              "      <td>957.5775</td>\n",
              "      <td>5</td>\n",
              "      <td>-383.0310</td>\n",
              "    </tr>\n",
              "    <tr>\n",
              "      <th>4</th>\n",
              "      <td>US-2015-108966</td>\n",
              "      <td>10/11/2015</td>\n",
              "      <td>SO-20335</td>\n",
              "      <td>Consumer</td>\n",
              "      <td>Office Supplies</td>\n",
              "      <td>Storage</td>\n",
              "      <td>22.3680</td>\n",
              "      <td>2</td>\n",
              "      <td>2.5164</td>\n",
              "    </tr>\n",
              "    <tr>\n",
              "      <th>...</th>\n",
              "      <td>...</td>\n",
              "      <td>...</td>\n",
              "      <td>...</td>\n",
              "      <td>...</td>\n",
              "      <td>...</td>\n",
              "      <td>...</td>\n",
              "      <td>...</td>\n",
              "      <td>...</td>\n",
              "      <td>...</td>\n",
              "    </tr>\n",
              "    <tr>\n",
              "      <th>9983</th>\n",
              "      <td>CA-2014-110422</td>\n",
              "      <td>1/21/2014</td>\n",
              "      <td>TB-21400</td>\n",
              "      <td>Consumer</td>\n",
              "      <td>Furniture</td>\n",
              "      <td>Furnishings</td>\n",
              "      <td>25.2480</td>\n",
              "      <td>3</td>\n",
              "      <td>4.1028</td>\n",
              "    </tr>\n",
              "    <tr>\n",
              "      <th>9984</th>\n",
              "      <td>CA-2017-121258</td>\n",
              "      <td>2/26/2017</td>\n",
              "      <td>DB-13060</td>\n",
              "      <td>Consumer</td>\n",
              "      <td>Furniture</td>\n",
              "      <td>Furnishings</td>\n",
              "      <td>91.9600</td>\n",
              "      <td>2</td>\n",
              "      <td>15.6332</td>\n",
              "    </tr>\n",
              "    <tr>\n",
              "      <th>9985</th>\n",
              "      <td>CA-2017-121258</td>\n",
              "      <td>2/26/2017</td>\n",
              "      <td>DB-13060</td>\n",
              "      <td>Consumer</td>\n",
              "      <td>Technology</td>\n",
              "      <td>Phones</td>\n",
              "      <td>258.5760</td>\n",
              "      <td>2</td>\n",
              "      <td>19.3932</td>\n",
              "    </tr>\n",
              "    <tr>\n",
              "      <th>9986</th>\n",
              "      <td>CA-2017-121258</td>\n",
              "      <td>2/26/2017</td>\n",
              "      <td>DB-13060</td>\n",
              "      <td>Consumer</td>\n",
              "      <td>Office Supplies</td>\n",
              "      <td>Paper</td>\n",
              "      <td>29.6000</td>\n",
              "      <td>4</td>\n",
              "      <td>13.3200</td>\n",
              "    </tr>\n",
              "    <tr>\n",
              "      <th>9987</th>\n",
              "      <td>CA-2017-119914</td>\n",
              "      <td>5/4/2017</td>\n",
              "      <td>CC-12220</td>\n",
              "      <td>Consumer</td>\n",
              "      <td>Office Supplies</td>\n",
              "      <td>Appliances</td>\n",
              "      <td>243.1600</td>\n",
              "      <td>2</td>\n",
              "      <td>72.9480</td>\n",
              "    </tr>\n",
              "  </tbody>\n",
              "</table>\n",
              "<p>9988 rows × 9 columns</p>\n",
              "</div>"
            ],
            "text/plain": [
              "            order_id  order_date customer_id  ...     sales quantity    profit\n",
              "0     CA-2016-152156   11/8/2016    CG-12520  ...  261.9600        2   41.9136\n",
              "1     CA-2016-152156   11/8/2016    CG-12520  ...  731.9400        3  219.5820\n",
              "2     CA-2016-138688   6/12/2016    DV-13045  ...   14.6200        2    6.8714\n",
              "3     US-2015-108966  10/11/2015    SO-20335  ...  957.5775        5 -383.0310\n",
              "4     US-2015-108966  10/11/2015    SO-20335  ...   22.3680        2    2.5164\n",
              "...              ...         ...         ...  ...       ...      ...       ...\n",
              "9983  CA-2014-110422   1/21/2014    TB-21400  ...   25.2480        3    4.1028\n",
              "9984  CA-2017-121258   2/26/2017    DB-13060  ...   91.9600        2   15.6332\n",
              "9985  CA-2017-121258   2/26/2017    DB-13060  ...  258.5760        2   19.3932\n",
              "9986  CA-2017-121258   2/26/2017    DB-13060  ...   29.6000        4   13.3200\n",
              "9987  CA-2017-119914    5/4/2017    CC-12220  ...  243.1600        2   72.9480\n",
              "\n",
              "[9988 rows x 9 columns]"
            ]
          },
          "metadata": {
            "tags": []
          },
          "execution_count": 4
        }
      ]
    },
    {
      "cell_type": "markdown",
      "metadata": {
        "id": "fNJlxji43rIv"
      },
      "source": [
        "## Variabel dataset\n",
        "\n",
        "\n"
      ]
    },
    {
      "cell_type": "markdown",
      "metadata": {
        "id": "yELOC18jK11Q"
      },
      "source": [
        "Variabel-variabel yang terdapat pada dataset ini adalah sebagai berikut:\n",
        "1. **order_id** = Nomor ID pembelian(nota)\n",
        "2. **order_data** = Tanggal pembelian\n",
        "3. **customer_id** = Nomor ID pembeli\n",
        "4. **segment** = Segmen produk \n",
        "5. **category** = Kategori produk\n",
        "6. **sub_category** = Sub kategori produk\n",
        "7. **sales** = Total harga pembelian\n",
        "8. **quantity** = Jumlah produk dibeli\n",
        "9. **profit** = Keuntungan"
      ]
    },
    {
      "cell_type": "markdown",
      "metadata": {
        "id": "Aqo2bJTQK6oS"
      },
      "source": [
        ""
      ]
    },
    {
      "cell_type": "markdown",
      "metadata": {
        "id": "igjm48vdp5SF"
      },
      "source": [
        "#Tugas Individu"
      ]
    },
    {
      "cell_type": "markdown",
      "metadata": {
        "id": "FpTHwIfhS5mF"
      },
      "source": [
        "\n",
        "1. Tentukan Segment mana dengan profit tertinggi!  [30]\n",
        "2. Tentukan Category mana dengan sales terbanyak!  [30]\n",
        "3. Tentukan Sub-Category dengan quantity paling sedikit! [40]\n",
        "\n",
        "\n",
        "\n",
        "\n",
        "\n",
        "4. **Challange Question!!!  Tentukan Bulan dengan Profit Tertinggi!!!** \n",
        "\n",
        "Bonus Nilai 100 di Salah Satu Tugas Lainnya\n"
      ]
    },
    {
      "cell_type": "markdown",
      "metadata": {
        "id": "qh7HJ_s_2NSR"
      },
      "source": [
        "***1. Segment Mana dengan Profit Tertinggi?***"
      ]
    },
    {
      "cell_type": "code",
      "metadata": {
        "colab": {
          "base_uri": "https://localhost:8080/"
        },
        "id": "C95OM_jT2jZ_",
        "outputId": "e36734cb-23d6-4b76-e061-896efcb2abfc"
      },
      "source": [
        "#Melihat Segment Apa Saja Yang Ada\n",
        "df.segment.value_counts()"
      ],
      "execution_count": 46,
      "outputs": [
        {
          "output_type": "execute_result",
          "data": {
            "text/plain": [
              "Consumer       5188\n",
              "Corporate      3019\n",
              "Home Office    1781\n",
              "Name: segment, dtype: int64"
            ]
          },
          "metadata": {
            "tags": []
          },
          "execution_count": 46
        }
      ]
    },
    {
      "cell_type": "code",
      "metadata": {
        "id": "gxK4JNff8G2e"
      },
      "source": [
        "#Memilih Masing-Masing Segment\n",
        "df_Consumer=df[df['segment']=='Consumer']\n",
        "df_Corporate=df[df['segment']=='Corporate']\n",
        "df_Home_Office=df[df['segment']=='Home Office']"
      ],
      "execution_count": 9,
      "outputs": []
    },
    {
      "cell_type": "code",
      "metadata": {
        "colab": {
          "base_uri": "https://localhost:8080/"
        },
        "id": "erLUiRtA8h3B",
        "outputId": "d5c9dfcb-eb44-4c29-80c0-f9aafb4f3892"
      },
      "source": [
        "#Menetukan Segment dengan Profit Tertinggi\n",
        "a=df_Consumer.profit.sum()\n",
        "b=df_Corporate.profit.sum()\n",
        "c=df_Home_Office.profit.sum()\n",
        "print(\"Profit Consumer    :\",a)\n",
        "print(\"Profit Corporate   :\",b)\n",
        "print(\"Profit Home Office :\",c)\n",
        "if a>b>c:\n",
        "  print(\"Profit Tertinggi   : Consumer\")\n",
        "elif b>a>c:\n",
        "  print(\"Profit Tertinggi   : Coroporate\")\n",
        "else :\n",
        "  print(\"Profit Tertinggi   : Home Office\")"
      ],
      "execution_count": 19,
      "outputs": [
        {
          "output_type": "stream",
          "text": [
            "Profit Consumer    : 128959.22080000001\n",
            "Profit Corporate   : 83579.158\n",
            "Profit Home Office : 58189.7681\n",
            "Profit Tertinggi   : Consumer\n"
          ],
          "name": "stdout"
        }
      ]
    },
    {
      "cell_type": "markdown",
      "metadata": {
        "id": "XAbcu7UU900w"
      },
      "source": [
        "Jadi, segmen produk dengan keuntungan total tertinggi adalah **Consumer**"
      ]
    },
    {
      "cell_type": "markdown",
      "metadata": {
        "id": "qJ_COmpY-IU3"
      },
      "source": [
        "***2. Category Mana dengan Sales Terbanyak?***"
      ]
    },
    {
      "cell_type": "code",
      "metadata": {
        "colab": {
          "base_uri": "https://localhost:8080/"
        },
        "id": "yFuAu73Y-X-v",
        "outputId": "c2f0f58b-4a6e-43e5-d82c-56229ae3cfd9"
      },
      "source": [
        "#Melihat Category Apa Saja Yang Ada\n",
        "df.category.value_counts()"
      ],
      "execution_count": 20,
      "outputs": [
        {
          "output_type": "execute_result",
          "data": {
            "text/plain": [
              "Office Supplies    6026\n",
              "Furniture          2121\n",
              "Technology         1841\n",
              "Name: category, dtype: int64"
            ]
          },
          "metadata": {
            "tags": []
          },
          "execution_count": 20
        }
      ]
    },
    {
      "cell_type": "code",
      "metadata": {
        "id": "ZY379PlK-om9"
      },
      "source": [
        "#Memilih masing-masing category\n",
        "df_Office_Supplies=df[df['category']=='Office Supplies']\n",
        "df_Furniture=df[df['category']=='Furniture']\n",
        "df_Technology=df[df['category']=='Technology']"
      ],
      "execution_count": 21,
      "outputs": []
    },
    {
      "cell_type": "code",
      "metadata": {
        "colab": {
          "base_uri": "https://localhost:8080/"
        },
        "id": "264FxDd3LIu_",
        "outputId": "82f6c8bd-5a62-4c11-875b-29418cfec689"
      },
      "source": [
        "df_Office_Supplies.sales.sum()"
      ],
      "execution_count": 23,
      "outputs": [
        {
          "output_type": "execute_result",
          "data": {
            "text/plain": [
              "719047.032"
            ]
          },
          "metadata": {
            "tags": []
          },
          "execution_count": 23
        }
      ]
    },
    {
      "cell_type": "code",
      "metadata": {
        "colab": {
          "base_uri": "https://localhost:8080/"
        },
        "id": "p2JWn7zPLTEu",
        "outputId": "7a48a4c9-3e58-44b9-bdcb-092916e7088d"
      },
      "source": [
        "df_Furniture.sales.sum()"
      ],
      "execution_count": 56,
      "outputs": [
        {
          "output_type": "execute_result",
          "data": {
            "text/plain": [
              "741999.7953"
            ]
          },
          "metadata": {
            "tags": []
          },
          "execution_count": 56
        }
      ]
    },
    {
      "cell_type": "code",
      "metadata": {
        "colab": {
          "base_uri": "https://localhost:8080/"
        },
        "id": "40_uAq7lOiNa",
        "outputId": "1972a162-049a-46a0-e87c-e5a77048f236"
      },
      "source": [
        "df_Technology.sales.sum()"
      ],
      "execution_count": 57,
      "outputs": [
        {
          "output_type": "execute_result",
          "data": {
            "text/plain": [
              "755815.72"
            ]
          },
          "metadata": {
            "tags": []
          },
          "execution_count": 57
        }
      ]
    },
    {
      "cell_type": "markdown",
      "metadata": {
        "id": "ZeM4PwlrOsMp"
      },
      "source": [
        "Jadi, kategori produk dengan total harga pembelian tertinggi adalah **Teknologi**"
      ]
    },
    {
      "cell_type": "markdown",
      "metadata": {
        "id": "aROhqGfzPUmd"
      },
      "source": [
        "***3. Sub-Category Mana dengan Jumlah Quantity Paling Sedikit?***"
      ]
    },
    {
      "cell_type": "code",
      "metadata": {
        "colab": {
          "base_uri": "https://localhost:8080/"
        },
        "id": "VTNSajX5Po3I",
        "outputId": "6cc3f544-e86e-4ada-dda0-861a593d643a"
      },
      "source": [
        "#Melihat Sub Category Apa Saja Yang Ada\n",
        "df.sub_category.value_counts()"
      ],
      "execution_count": 5,
      "outputs": [
        {
          "output_type": "execute_result",
          "data": {
            "text/plain": [
              "Binders        1523\n",
              "Paper          1370\n",
              "Furnishings     957\n",
              "Phones          889\n",
              "Storage         846\n",
              "Art             796\n",
              "Accessories     775\n",
              "Chairs          617\n",
              "Appliances      466\n",
              "Labels          364\n",
              "Tables          319\n",
              "Envelopes       254\n",
              "Bookcases       228\n",
              "Fasteners       217\n",
              "Supplies        190\n",
              "Machines        113\n",
              "Copiers          64\n",
              "Name: sub_category, dtype: int64"
            ]
          },
          "metadata": {
            "tags": []
          },
          "execution_count": 5
        }
      ]
    },
    {
      "cell_type": "code",
      "metadata": {
        "id": "KO1WhtFrP8Id"
      },
      "source": [
        "df_Binders=df[df['sub_category']=='Binders']\n",
        "df_Paper=df[df['sub_category']=='Paper']\n",
        "df_Furnishings=df[df['sub_category']=='Furnishings']\n",
        "df_Phones=df[df['sub_category']=='Phones']\n",
        "df_Storage=df[df['sub_category']=='Storage']\n",
        "df_Art=df[df['sub_category']=='Art']\n",
        "df_Accessories=df[df['sub_category']=='Accessories']\n",
        "df_Chairs=df[df['sub_category']=='Chairs']\n",
        "df_Appliances=df[df['sub_category']=='Appliances']\n",
        "df_Labels=df[df['sub_category']=='Labels']\n",
        "df_Tables=df[df['sub_category']=='Tables']\n",
        "df_Envelopes=df[df['sub_category']=='Envelopes']\n",
        "df_Bookcases=df[df['sub_category']=='Bookcases']\n",
        "df_Fasteners=df[df['sub_category']=='Fasteners']\n",
        "df_Supplies=df[df['sub_category']=='Supplies']\n",
        "df_Machines=df[df['sub_category']=='Machines']\n",
        "df_Copiers=df[df['sub_category']=='Copiers']"
      ],
      "execution_count": 6,
      "outputs": []
    },
    {
      "cell_type": "code",
      "metadata": {
        "colab": {
          "base_uri": "https://localhost:8080/"
        },
        "id": "c3mWl99sLrFo",
        "outputId": "c8feb0ef-04ae-4923-f59a-eb9b0f81d190"
      },
      "source": [
        "#Menentukan Sub-Category dengan Quantity Paling Sedikit!\n",
        "a=df_Binders.quantity.sum()\n",
        "b=df_Paper.quantity.sum()\n",
        "c=df_Furnishings.quantity.sum()\n",
        "d=df_Phones.quantity.sum()\n",
        "e=df_Storage.quantity.sum()\n",
        "f=df_Art.quantity.sum()\n",
        "g=df_Accessories.quantity.sum()\n",
        "h=df_Chairs.quantity.sum()\n",
        "i=df_Appliances.quantity.sum()\n",
        "j=df_Labels.quantity.sum()\n",
        "k=df_Tables.quantity.sum()\n",
        "l=df_Envelopes.quantity.sum()\n",
        "m=df_Bookcases.quantity.sum()\n",
        "n=df_Fasteners.quantity.sum()\n",
        "o=df_Supplies.quantity.sum()\n",
        "p=df_Machines.quantity.sum()\n",
        "q=df_Copiers.quantity.sum()\n",
        "print(\"-----------------------------------\")\n",
        "#Karena banyak make IF, maka saya makai DICTIONARY\n",
        "Sub_Category=['Binders', 'Paper','Furnishings','Phones','Storage','Art','Accessories',\n",
        "           'Chairs','Appliances','Labels','Tables','Envelopes','Bookcases',\n",
        "           'Fasteners','Supplies','Machines','Copiers']\n",
        "Banyak=[a,b,c,d,e,f,g,h,i,j,k,l,m,n,o,p,q]\n",
        "dictsub = {'Sub Category':Sub_Category, 'Jumlah Quantitiy':Banyak}\n",
        "tabel = pd.DataFrame(dictsub,index=['1','2','3','4','5','6','7','8','9','10',\n",
        "                                    '11','12','13','14','15','16','17'])\n",
        "print(tabel)\n",
        "print(\"-----------------------------------\")\n",
        "print(\"                            \",[min(Banyak)])\n",
        "print(\"-----------------------------------\")\n",
        "print(\"Jumlah Quantitiy paling sedikit adalah Copiers :\", min(Banyak))"
      ],
      "execution_count": 25,
      "outputs": [
        {
          "output_type": "stream",
          "text": [
            "-----------------------------------\n",
            "   Sub Category  Jumlah Quantitiy\n",
            "1       Binders              5974\n",
            "2         Paper              5178\n",
            "3   Furnishings              3563\n",
            "4        Phones              3289\n",
            "5       Storage              3158\n",
            "6           Art              3000\n",
            "7   Accessories              2976\n",
            "8        Chairs              2356\n",
            "9    Appliances              1729\n",
            "10       Labels              1400\n",
            "11       Tables              1241\n",
            "12    Envelopes               906\n",
            "13    Bookcases               868\n",
            "14    Fasteners               914\n",
            "15     Supplies               647\n",
            "16     Machines               429\n",
            "17      Copiers               218\n",
            "-----------------------------------\n",
            "                             [218]\n",
            "-----------------------------------\n",
            "Jumlah Quantitiy paling sedikit adalah Copiers : 218\n"
          ],
          "name": "stdout"
        }
      ]
    },
    {
      "cell_type": "markdown",
      "metadata": {
        "id": "LaT-HlDaY6-0"
      },
      "source": [
        "Jadi, sub kategori produk dengan jumlah paling sedikit yang di beli adalah **Copiers**"
      ]
    },
    {
      "cell_type": "markdown",
      "metadata": {
        "id": "TKtH5P0OL-rS"
      },
      "source": [
        "***4. Bulan Mana dengan Profit Tertinggi?***"
      ]
    },
    {
      "cell_type": "code",
      "metadata": {
        "colab": {
          "base_uri": "https://localhost:8080/"
        },
        "id": "LjE7uA6uML-F",
        "outputId": "284acbb9-a40e-48e9-97bb-82ad00881c3b"
      },
      "source": [
        "#Membentuk DateTime index\n",
        "df['order_date'] = pd.to_datetime(df['order_date'])\n",
        "df = df.set_index('order_date')\n",
        "#Menjumlahkan semua data dalam 1 bulan dengan frekuensi Bulan \n",
        "jumlahprofit_bulan = df.profit.resample('M').sum()\n",
        "jumlahprofit_bulan"
      ],
      "execution_count": 26,
      "outputs": [
        {
          "output_type": "execute_result",
          "data": {
            "text/plain": [
              "order_date\n",
              "2014-01-31     2450.1907\n",
              "2014-02-28      862.3084\n",
              "2014-03-31     2309.8083\n",
              "2014-04-30     3488.8352\n",
              "2014-05-31     2738.7096\n",
              "2014-06-30     4976.5244\n",
              "2014-07-31     -841.4826\n",
              "2014-08-31     5318.1050\n",
              "2014-09-30     8328.0994\n",
              "2014-10-31     3448.2573\n",
              "2014-11-30     9292.1269\n",
              "2014-12-31     8983.5699\n",
              "2015-01-31    -3281.0070\n",
              "2015-02-28     2813.8508\n",
              "2015-03-31     9732.0978\n",
              "2015-04-30     4187.4962\n",
              "2015-05-31     4667.8690\n",
              "2015-06-30     3335.5572\n",
              "2015-07-31     3288.6483\n",
              "2015-08-31     5355.8084\n",
              "2015-09-30     8209.1627\n",
              "2015-10-31     2817.3660\n",
              "2015-11-30    12474.7884\n",
              "2015-12-31     8016.9659\n",
              "2016-01-31     2824.8233\n",
              "2016-02-29     5004.5795\n",
              "2016-03-31     3611.9680\n",
              "2016-04-30     2977.8149\n",
              "2016-05-31     8662.1464\n",
              "2016-06-30     4750.3781\n",
              "2016-07-31     4432.8779\n",
              "2016-08-31     2062.0693\n",
              "2016-09-30     9328.6576\n",
              "2016-10-31     7843.1665\n",
              "2016-11-30    10611.3855\n",
              "2016-12-31    17885.3093\n",
              "2017-01-31     7140.4391\n",
              "2017-02-28     1613.8720\n",
              "2017-03-31     8031.9107\n",
              "2017-04-30      933.2900\n",
              "2017-05-31     6342.5828\n",
              "2017-06-30     8223.3357\n",
              "2017-07-31     6952.6212\n",
              "2017-08-31     9040.9557\n",
              "2017-09-30    10991.5556\n",
              "2017-10-31     5355.2867\n",
              "2017-11-30     4650.1181\n",
              "2017-12-31     8483.3468\n",
              "Freq: M, Name: profit, dtype: float64"
            ]
          },
          "metadata": {
            "tags": []
          },
          "execution_count": 26
        }
      ]
    },
    {
      "cell_type": "code",
      "metadata": {
        "colab": {
          "base_uri": "https://localhost:8080/"
        },
        "id": "MC9BshkuMire",
        "outputId": "f8e3b5c5-2278-4a09-fe5b-acbe3d3b1765"
      },
      "source": [
        "#Mencari Bulan dengan Profit Tertinggi\n",
        "print(jumlahprofit_bulan[jumlahprofit_bulan==max(jumlahprofit_bulan)])"
      ],
      "execution_count": 27,
      "outputs": [
        {
          "output_type": "stream",
          "text": [
            "order_date\n",
            "2016-12-31    17885.3093\n",
            "Freq: M, Name: profit, dtype: float64\n"
          ],
          "name": "stdout"
        }
      ]
    },
    {
      "cell_type": "markdown",
      "metadata": {
        "id": "Bh0ki-LxMoJL"
      },
      "source": [
        "Jadi, bulan dengan profit tertinggi adalah **Desember**"
      ]
    }
  ]
}