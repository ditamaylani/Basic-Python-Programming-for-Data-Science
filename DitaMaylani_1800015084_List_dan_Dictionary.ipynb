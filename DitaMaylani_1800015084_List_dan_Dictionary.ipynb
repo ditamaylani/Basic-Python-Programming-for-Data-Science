{
  "nbformat": 4,
  "nbformat_minor": 0,
  "metadata": {
    "colab": {
      "name": "DitaMaylani_1800015084_List_dan_Dictionary.ipynb",
      "provenance": [],
      "collapsed_sections": [],
      "include_colab_link": true
    },
    "kernelspec": {
      "name": "python3",
      "display_name": "Python 3"
    },
    "language_info": {
      "name": "python"
    }
  },
  "cells": [
    {
      "cell_type": "markdown",
      "metadata": {
        "id": "view-in-github",
        "colab_type": "text"
      },
      "source": [
        "<a href=\"https://colab.research.google.com/github/ditamaylani/Basic-Python-Programming-for-Data-Science/blob/main/DitaMaylani_1800015084_List_dan_Dictionary.ipynb\" target=\"_parent\"><img src=\"https://colab.research.google.com/assets/colab-badge.svg\" alt=\"Open In Colab\"/></a>"
      ]
    },
    {
      "cell_type": "markdown",
      "metadata": {
        "id": "kMd1Q9NB1BqH"
      },
      "source": [
        "1. Buatlah sebuah list dengan elemen bilangan kelipatan 5 dengan panjang elemen sejumlah 100"
      ]
    },
    {
      "cell_type": "code",
      "metadata": {
        "id": "ogBU6p9j0yXf",
        "colab": {
          "base_uri": "https://localhost:8080/"
        },
        "outputId": "b8773a90-5983-4ca0-861f-6eb11ae6f858"
      },
      "source": [
        "#Tuliskan kodemu di bawah ini:\n",
        "y = [x for x in range (5, 505, 5)]\n",
        "print(y)"
      ],
      "execution_count": null,
      "outputs": [
        {
          "output_type": "stream",
          "text": [
            "[5, 10, 15, 20, 25, 30, 35, 40, 45, 50, 55, 60, 65, 70, 75, 80, 85, 90, 95, 100, 105, 110, 115, 120, 125, 130, 135, 140, 145, 150, 155, 160, 165, 170, 175, 180, 185, 190, 195, 200, 205, 210, 215, 220, 225, 230, 235, 240, 245, 250, 255, 260, 265, 270, 275, 280, 285, 290, 295, 300, 305, 310, 315, 320, 325, 330, 335, 340, 345, 350, 355, 360, 365, 370, 375, 380, 385, 390, 395, 400, 405, 410, 415, 420, 425, 430, 435, 440, 445, 450, 455, 460, 465, 470, 475, 480, 485, 490, 495, 500]\n"
          ],
          "name": "stdout"
        }
      ]
    },
    {
      "cell_type": "markdown",
      "metadata": {
        "id": "OHyMAfrd1SL3"
      },
      "source": [
        "2. Buatlah sebuah dictionary dengan jumlah elemen 100 dan lakukanlah beberapa modifikasi(minimal 3) di dalamnya."
      ]
    },
    {
      "cell_type": "code",
      "metadata": {
        "id": "b40H0S8J1lD9",
        "colab": {
          "base_uri": "https://localhost:8080/"
        },
        "outputId": "937f9058-29bf-477e-c5d8-17df3ab06494"
      },
      "source": [
        "#Tuliskan kodemu di bawah ini:\n",
        "#Membuat Dictionary\n",
        "u = []\n",
        "v = []\n",
        "for n in range (0, 100):\n",
        "  u.append(n)\n",
        "print(u)\n",
        "for m in range (100, 0, -1):\n",
        "  v.append(m)\n",
        "print(v)"
      ],
      "execution_count": 1,
      "outputs": [
        {
          "output_type": "stream",
          "text": [
            "[0, 1, 2, 3, 4, 5, 6, 7, 8, 9, 10, 11, 12, 13, 14, 15, 16, 17, 18, 19, 20, 21, 22, 23, 24, 25, 26, 27, 28, 29, 30, 31, 32, 33, 34, 35, 36, 37, 38, 39, 40, 41, 42, 43, 44, 45, 46, 47, 48, 49, 50, 51, 52, 53, 54, 55, 56, 57, 58, 59, 60, 61, 62, 63, 64, 65, 66, 67, 68, 69, 70, 71, 72, 73, 74, 75, 76, 77, 78, 79, 80, 81, 82, 83, 84, 85, 86, 87, 88, 89, 90, 91, 92, 93, 94, 95, 96, 97, 98, 99]\n",
            "[100, 99, 98, 97, 96, 95, 94, 93, 92, 91, 90, 89, 88, 87, 86, 85, 84, 83, 82, 81, 80, 79, 78, 77, 76, 75, 74, 73, 72, 71, 70, 69, 68, 67, 66, 65, 64, 63, 62, 61, 60, 59, 58, 57, 56, 55, 54, 53, 52, 51, 50, 49, 48, 47, 46, 45, 44, 43, 42, 41, 40, 39, 38, 37, 36, 35, 34, 33, 32, 31, 30, 29, 28, 27, 26, 25, 24, 23, 22, 21, 20, 19, 18, 17, 16, 15, 14, 13, 12, 11, 10, 9, 8, 7, 6, 5, 4, 3, 2, 1]\n"
          ],
          "name": "stdout"
        }
      ]
    },
    {
      "cell_type": "code",
      "metadata": {
        "colab": {
          "base_uri": "https://localhost:8080/"
        },
        "id": "O_G5oMYBXLm9",
        "outputId": "238b89c0-9083-4017-daff-e216001a792f"
      },
      "source": [
        "len(u) #untuk memastikan jumlah elemen pada u ada 100"
      ],
      "execution_count": 2,
      "outputs": [
        {
          "output_type": "execute_result",
          "data": {
            "text/plain": [
              "100"
            ]
          },
          "metadata": {
            "tags": []
          },
          "execution_count": 2
        }
      ]
    },
    {
      "cell_type": "code",
      "metadata": {
        "colab": {
          "base_uri": "https://localhost:8080/"
        },
        "id": "Oq9nZR4NVr_t",
        "outputId": "22fcb4e8-e6bd-4c69-a5a1-cab33985e2b2"
      },
      "source": [
        "len(v) #untuk memastikan jumlah elemen pada v ada 100"
      ],
      "execution_count": 3,
      "outputs": [
        {
          "output_type": "execute_result",
          "data": {
            "text/plain": [
              "100"
            ]
          },
          "metadata": {
            "tags": []
          },
          "execution_count": 3
        }
      ]
    },
    {
      "cell_type": "code",
      "metadata": {
        "colab": {
          "base_uri": "https://localhost:8080/"
        },
        "id": "ikEH390kK0T7",
        "outputId": "f0a636aa-b97e-4151-b5c6-519057294a4e"
      },
      "source": [
        "#Modifikasi 1\n",
        "#Menambah elemen\n",
        "modif = dict(zip(u, v))\n",
        "print(modif)"
      ],
      "execution_count": 4,
      "outputs": [
        {
          "output_type": "stream",
          "text": [
            "{0: 100, 1: 99, 2: 98, 3: 97, 4: 96, 5: 95, 6: 94, 7: 93, 8: 92, 9: 91, 10: 90, 11: 89, 12: 88, 13: 87, 14: 86, 15: 85, 16: 84, 17: 83, 18: 82, 19: 81, 20: 80, 21: 79, 22: 78, 23: 77, 24: 76, 25: 75, 26: 74, 27: 73, 28: 72, 29: 71, 30: 70, 31: 69, 32: 68, 33: 67, 34: 66, 35: 65, 36: 64, 37: 63, 38: 62, 39: 61, 40: 60, 41: 59, 42: 58, 43: 57, 44: 56, 45: 55, 46: 54, 47: 53, 48: 52, 49: 51, 50: 50, 51: 49, 52: 48, 53: 47, 54: 46, 55: 45, 56: 44, 57: 43, 58: 42, 59: 41, 60: 40, 61: 39, 62: 38, 63: 37, 64: 36, 65: 35, 66: 34, 67: 33, 68: 32, 69: 31, 70: 30, 71: 29, 72: 28, 73: 27, 74: 26, 75: 25, 76: 24, 77: 23, 78: 22, 79: 21, 80: 20, 81: 19, 82: 18, 83: 17, 84: 16, 85: 15, 86: 14, 87: 13, 88: 12, 89: 11, 90: 10, 91: 9, 92: 8, 93: 7, 94: 6, 95: 5, 96: 4, 97: 3, 98: 2, 99: 1}\n"
          ],
          "name": "stdout"
        }
      ]
    },
    {
      "cell_type": "code",
      "metadata": {
        "colab": {
          "base_uri": "https://localhost:8080/"
        },
        "id": "ZRNlzp4SLicf",
        "outputId": "7740095c-3ca0-4616-e5c6-dd58950847a0"
      },
      "source": [
        "#Modifikasi 2\n",
        "#Menghapus elemen\n",
        "del modif[8]\n",
        "print(modif)"
      ],
      "execution_count": 5,
      "outputs": [
        {
          "output_type": "stream",
          "text": [
            "{0: 100, 1: 99, 2: 98, 3: 97, 4: 96, 5: 95, 6: 94, 7: 93, 9: 91, 10: 90, 11: 89, 12: 88, 13: 87, 14: 86, 15: 85, 16: 84, 17: 83, 18: 82, 19: 81, 20: 80, 21: 79, 22: 78, 23: 77, 24: 76, 25: 75, 26: 74, 27: 73, 28: 72, 29: 71, 30: 70, 31: 69, 32: 68, 33: 67, 34: 66, 35: 65, 36: 64, 37: 63, 38: 62, 39: 61, 40: 60, 41: 59, 42: 58, 43: 57, 44: 56, 45: 55, 46: 54, 47: 53, 48: 52, 49: 51, 50: 50, 51: 49, 52: 48, 53: 47, 54: 46, 55: 45, 56: 44, 57: 43, 58: 42, 59: 41, 60: 40, 61: 39, 62: 38, 63: 37, 64: 36, 65: 35, 66: 34, 67: 33, 68: 32, 69: 31, 70: 30, 71: 29, 72: 28, 73: 27, 74: 26, 75: 25, 76: 24, 77: 23, 78: 22, 79: 21, 80: 20, 81: 19, 82: 18, 83: 17, 84: 16, 85: 15, 86: 14, 87: 13, 88: 12, 89: 11, 90: 10, 91: 9, 92: 8, 93: 7, 94: 6, 95: 5, 96: 4, 97: 3, 98: 2, 99: 1}\n"
          ],
          "name": "stdout"
        }
      ]
    },
    {
      "cell_type": "code",
      "metadata": {
        "colab": {
          "base_uri": "https://localhost:8080/"
        },
        "id": "vpYbkgFWL0K8",
        "outputId": "971537f8-2d3e-44c8-ccb8-b8bfa2b38060"
      },
      "source": [
        "#Modifikasi 3\n",
        "#Menambah elemen baru\n",
        "modif.update({100 : 1})\n",
        "print(modif)"
      ],
      "execution_count": 6,
      "outputs": [
        {
          "output_type": "stream",
          "text": [
            "{0: 100, 1: 99, 2: 98, 3: 97, 4: 96, 5: 95, 6: 94, 7: 93, 9: 91, 10: 90, 11: 89, 12: 88, 13: 87, 14: 86, 15: 85, 16: 84, 17: 83, 18: 82, 19: 81, 20: 80, 21: 79, 22: 78, 23: 77, 24: 76, 25: 75, 26: 74, 27: 73, 28: 72, 29: 71, 30: 70, 31: 69, 32: 68, 33: 67, 34: 66, 35: 65, 36: 64, 37: 63, 38: 62, 39: 61, 40: 60, 41: 59, 42: 58, 43: 57, 44: 56, 45: 55, 46: 54, 47: 53, 48: 52, 49: 51, 50: 50, 51: 49, 52: 48, 53: 47, 54: 46, 55: 45, 56: 44, 57: 43, 58: 42, 59: 41, 60: 40, 61: 39, 62: 38, 63: 37, 64: 36, 65: 35, 66: 34, 67: 33, 68: 32, 69: 31, 70: 30, 71: 29, 72: 28, 73: 27, 74: 26, 75: 25, 76: 24, 77: 23, 78: 22, 79: 21, 80: 20, 81: 19, 82: 18, 83: 17, 84: 16, 85: 15, 86: 14, 87: 13, 88: 12, 89: 11, 90: 10, 91: 9, 92: 8, 93: 7, 94: 6, 95: 5, 96: 4, 97: 3, 98: 2, 99: 1, 100: 1}\n"
          ],
          "name": "stdout"
        }
      ]
    }
  ]
}