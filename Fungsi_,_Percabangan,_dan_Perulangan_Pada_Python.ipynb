{
  "nbformat": 4,
  "nbformat_minor": 0,
  "metadata": {
    "kernelspec": {
      "display_name": "Python [conda env:pythonengineer_env]",
      "language": "python",
      "name": "conda-env-pythonengineer_env-py"
    },
    "language_info": {
      "codemirror_mode": {
        "name": "ipython",
        "version": 3
      },
      "file_extension": ".py",
      "mimetype": "text/x-python",
      "name": "python",
      "nbconvert_exporter": "python",
      "pygments_lexer": "ipython3",
      "version": "3.7.3"
    },
    "colab": {
      "name": "Fungsi_,_Percabangan,_dan_Perulangan_Pada_Python.ipynb",
      "provenance": [],
      "collapsed_sections": [],
      "toc_visible": true,
      "include_colab_link": true
    }
  },
  "cells": [
    {
      "cell_type": "markdown",
      "metadata": {
        "id": "view-in-github",
        "colab_type": "text"
      },
      "source": [
        "<a href=\"https://colab.research.google.com/github/ditamaylani/Basic-Python-Programming-for-Data-Science/blob/main/Fungsi_%2C_Percabangan%2C_dan_Perulangan_Pada_Python.ipynb\" target=\"_parent\"><img src=\"https://colab.research.google.com/assets/colab-badge.svg\" alt=\"Open In Colab\"/></a>"
      ]
    },
    {
      "cell_type": "markdown",
      "metadata": {
        "id": "1ZXQ22-fYk8q"
      },
      "source": [
        "# Fungsi Pada Python\n",
        "\n",
        "Function(Fungsi) adalah sebuah blok statemen yang hanya akan dijalankan saat ia dipanggil.\n",
        "\n",
        "Fungsi len() untuk mengukur jumlah elemen dalam sebuah list dan fungsi print() untuk menampilkan pesan pada layar konsol merupakan contoh dari bentuk fungsi yang telah disediakan oleh bahasa pemrograman Python atau dengan kata lain built-in functions.\n",
        "\n",
        "Selain fungsi yang telah disediakan oleh Python, Python mengizinkan untuk mendeklarasikan fungsi dalam kode yang dituliskan yang dikenal dengan user defined function.\n",
        "\n",
        "```\n",
        "def nama_fungsi(parameter):\n",
        "    statement_1\n",
        "    …\n",
        "    statement_n\n",
        "    return returned_value\n",
        "```\n",
        "* **nama_fungsi** adalah nama untuk fungsi yang Anda definisikan, memiliki aturan seperti penamaan variabel\n",
        "* **parameter** adalah variabel masukan ke fungsi, bisa tanpa variabel, satu variabel atau lebih\n",
        "* **statement_1** … statement_n adalah algoritma yang telah Anda transfer dalam bahasa Python yang merupakan inti dari fungsi yang Anda definisikan. Seluruh statement adalah menjorok (indent) ke dalam seperti yang pernah Anda pelajari pada conditioning dan looping\n",
        "* **return_value** adalah variabel output dari fungsi Anda, bisa tanpa variabel, satu variabel atau lebih."
      ]
    },
    {
      "cell_type": "markdown",
      "metadata": {
        "id": "BMPdsL8KLjEj"
      },
      "source": [
        "# Argumen Fungsi Pada Python\n"
      ]
    },
    {
      "cell_type": "markdown",
      "metadata": {
        "id": "plVSrpqCLjEp"
      },
      "source": [
        "## Argumen dan Parameter\n",
        "* **Parameter** adalah variabel yang digunakan dalam deklarasi fungsi \n",
        "\n",
        "* **Argumen** adalah nilai yang diberikan saat pemanggilan fungsi."
      ]
    },
    {
      "cell_type": "code",
      "metadata": {
        "colab": {
          "base_uri": "https://localhost:8080/"
        },
        "id": "7oSdLcLzLjEp",
        "outputId": "fde5548a-323d-4f61-8afa-2487c0fe5c3e"
      },
      "source": [
        "def print_nama(nama):   # 'nama' adalah parameter\n",
        "    print(nama)\n",
        "\n",
        "print_nama('Caca') # 'Caca' adalah argumen"
      ],
      "execution_count": null,
      "outputs": [
        {
          "output_type": "stream",
          "text": [
            "Caca\n"
          ],
          "name": "stdout"
        }
      ]
    },
    {
      "cell_type": "markdown",
      "metadata": {
        "id": "ov40yOIILjEq"
      },
      "source": [
        "## Argumen posisi dan kata kunci\n",
        "\n",
        "Kita bisa menyatakan argumen sebagai argumen posisi atau kata kunci. Beberapa manfaat argumen kata kunci dapat berupa:\n",
        "- Kita dapat menyebut argumen dengan nama mereka untuk memperjelas apa yang mereka wakili\n",
        "- Kita dapat mengatur ulang argumen dengan cara yang membuatnya paling mudah dibaca"
      ]
    },
    {
      "cell_type": "code",
      "metadata": {
        "colab": {
          "base_uri": "https://localhost:8080/"
        },
        "id": "VuMErWDYLjEr",
        "outputId": "9fcec901-2540-4321-ece5-21f3e019a109"
      },
      "source": [
        "def foo(a, b, c):\n",
        "    print(a, b, c)\n",
        "    \n",
        "# argumen posisi\n",
        "# argumen berdasarkan posisinya\n",
        "foo(1, 2, 3)\n",
        "\n",
        "# argumen berdasarkan kata kuncinya\n",
        "foo(a=1, b=2, c=3)\n",
        "foo(c=3, b=2, a=1) \n",
        "# Catatan: jika sudah diberi kunci maka urutan tidak menjadi penting\n",
        "\n",
        "# campuran antara argumen posisi dan argumen kata kunci\n",
        "foo(1, b=2, c=3)\n",
        "\n",
        "# Ini tidak diijinkan:\n",
        "# foo(1, b=2, 3) # argumen posisional setelah argumen kunci \n",
        "# foo(1, b=2, a=3) # terdapat dua nilai untuk argumen kunci 'a'"
      ],
      "execution_count": null,
      "outputs": [
        {
          "output_type": "stream",
          "text": [
            "1 2 3\n",
            "1 2 3\n",
            "1 2 3\n",
            "1 2 3\n"
          ],
          "name": "stdout"
        }
      ]
    },
    {
      "cell_type": "markdown",
      "metadata": {
        "id": "zIIOk0w4LjEr"
      },
      "source": [
        "## Argumen Default\n",
        "\n",
        "Fungsi dapat memiliki argumen default dengan nilai yang telah ditentukan sebelumnya. Argumen ini dapat ditinggalkan dan nilai default kemudian diteruskan ke fungsi, atau argumen dapat dirubah dengan nilai yang berbeda. Perhatikan bahwa argumen default harus ditentukan sebagai **parameter terakhir** dalam suatu fungsi."
      ]
    },
    {
      "cell_type": "code",
      "metadata": {
        "colab": {
          "base_uri": "https://localhost:8080/"
        },
        "id": "VKpkZ7u-LjEr",
        "outputId": "6a311c80-f4c3-47a0-b5f8-57ebb950bbb9"
      },
      "source": [
        "# Argumen default\n",
        "def foo(a, b, c, d=4):\n",
        "    print(a, b, c, d)\n",
        "\n",
        "foo(1, 2, 3, 4)\n",
        "foo(1, b=2, c=3, d=100)\n",
        "\n",
        "# Argumen default harus diletakkan terakhir\n",
        "# def foo(a, b=2, c, d=4):\n",
        "#     print(a, b, c, d)"
      ],
      "execution_count": null,
      "outputs": [
        {
          "output_type": "stream",
          "text": [
            "1 2 3 4\n",
            "1 2 3 100\n"
          ],
          "name": "stdout"
        }
      ]
    },
    {
      "cell_type": "markdown",
      "metadata": {
        "id": "l-0Bf7E8W_li"
      },
      "source": [
        "# Praktik Membuat Fungsi"
      ]
    },
    {
      "cell_type": "code",
      "metadata": {
        "colab": {
          "base_uri": "https://localhost:8080/"
        },
        "id": "BwHhULPNXp-8",
        "outputId": "91096b32-5e02-43a1-87de-7e10f8054f98"
      },
      "source": [
        "x = 1\n",
        "y = 2\n",
        "x + y*9"
      ],
      "execution_count": null,
      "outputs": [
        {
          "output_type": "execute_result",
          "data": {
            "text/plain": [
              "19"
            ]
          },
          "metadata": {
            "tags": []
          },
          "execution_count": 6
        }
      ]
    },
    {
      "cell_type": "code",
      "metadata": {
        "id": "ndAN0nxisxdr",
        "colab": {
          "base_uri": "https://localhost:8080/"
        },
        "outputId": "7324f75d-5d38-4e8a-f27f-d2466fae6dc6"
      },
      "source": [
        "def penjumlahan(x, y): #input\n",
        "  a=x+y                #proses\n",
        "  return a             #output\n",
        "\n",
        "penjumlahan(1, 2)      #menggunakan fungsi"
      ],
      "execution_count": null,
      "outputs": [
        {
          "output_type": "execute_result",
          "data": {
            "text/plain": [
              "3"
            ]
          },
          "metadata": {
            "tags": []
          },
          "execution_count": 8
        }
      ]
    },
    {
      "cell_type": "markdown",
      "metadata": {
        "id": "rF6XWNuZYZLm"
      },
      "source": [
        "penjumlahan yang memungkinkan untuk tiga bilangan"
      ]
    },
    {
      "cell_type": "code",
      "metadata": {
        "id": "7ooAJXPeYcxJ",
        "colab": {
          "base_uri": "https://localhost:8080/"
        },
        "outputId": "48a4d618-625e-45f3-eb03-38a3f77b38ee"
      },
      "source": [
        "def penjumlahan(x,y,z=None):\n",
        "    if (z==None):\n",
        "        return x+y\n",
        "    else:\n",
        "        return x+y+z\n",
        "\n",
        "print(penjumlahan(1, 2))\n",
        "print(penjumlahan(1, 2, 3))"
      ],
      "execution_count": null,
      "outputs": [
        {
          "output_type": "stream",
          "text": [
            "3\n",
            "6\n"
          ],
          "name": "stdout"
        }
      ]
    },
    {
      "cell_type": "markdown",
      "metadata": {
        "id": "HkPXRcnvYpc9"
      },
      "source": [
        "menyimpan hasil fungsi dalam variabel"
      ]
    },
    {
      "cell_type": "code",
      "metadata": {
        "id": "-nw5pjTZYycA",
        "colab": {
          "base_uri": "https://localhost:8080/"
        },
        "outputId": "4dac9d4f-d4d9-4866-ede6-dd16394534b7"
      },
      "source": [
        "def penjumlahan(x,y):\n",
        "    return x+y\n",
        "\n",
        "a = penjumlahan\n",
        "a(1,2)"
      ],
      "execution_count": null,
      "outputs": [
        {
          "output_type": "execute_result",
          "data": {
            "text/plain": [
              "3"
            ]
          },
          "metadata": {
            "tags": []
          },
          "execution_count": 13
        }
      ]
    },
    {
      "cell_type": "markdown",
      "metadata": {
        "id": "fzmTUMbhpGLC"
      },
      "source": [
        "Saatnya kamu mencoba membuat fungsimu sendiri!"
      ]
    },
    {
      "cell_type": "code",
      "metadata": {
        "id": "qS_JvleIpJ6K",
        "colab": {
          "base_uri": "https://localhost:8080/"
        },
        "outputId": "0a08d91f-5f95-4dbb-fa36-a0439227d500"
      },
      "source": [
        "def luas_persegi_panjang(p,l=None):\n",
        "    if (l==None):\n",
        "        return 'Luas Persegi Panjang tidak dapat dihitung'\n",
        "    else:\n",
        "        return p*l\n",
        "\n",
        "print(luas_persegi_panjang(2))\n",
        "print(luas_persegi_panjang(2,3))"
      ],
      "execution_count": null,
      "outputs": [
        {
          "output_type": "stream",
          "text": [
            "Luas Persegi Panjang tidak dapat dihitung\n",
            "6\n"
          ],
          "name": "stdout"
        }
      ]
    },
    {
      "cell_type": "markdown",
      "metadata": {
        "id": "jEKjXonWtpPv"
      },
      "source": [
        "# **Percabangan/ Struktur Pemilihan**"
      ]
    },
    {
      "cell_type": "markdown",
      "metadata": {
        "id": "7n3cSTUBY-P5"
      },
      "source": [
        "Berbeda dengan bahasa pemrograman lainnya, Python hanya memiliki satu statement untuk melakukan proses pemilihan, yaitu dengan menggunakan if. Untuk mempermudah pembahasan tentang statement if, pembahasan akan dibagi menjadi tiga kelompok :\n",
        "\n",
        " - Statement if untuk satu kasus\n",
        " - Statement if untuk dua kasus\n",
        " - Statement if untuk tiga kasus"
      ]
    },
    {
      "cell_type": "markdown",
      "metadata": {
        "id": "GezBRujRdL0V"
      },
      "source": [
        "**Statement if untuk satu kasus**\n",
        "\n",
        "Bentuk umum penggunaan perintah if untuk satu kasus dalam Python adalah :\n",
        "\n",
        "```python\n",
        "if kondisi:\n",
        "    statement1\n",
        "    statement2\n",
        "    ...\n",
        "    \n",
        "```\n",
        "Pada bentuk diatas, statement1, statement2 dan seterusnya hanya akan dieksekusi jika kondisi yang didefinisikan dalam perintah If terpenuhi (bernilai True). Jika kondisi bernilai False, statement tersebut akan diabaikan oleh program.\n",
        "\n",
        "Perhatikan contoh berikut : "
      ]
    },
    {
      "cell_type": "code",
      "metadata": {
        "id": "9qGcl82qtsCc",
        "colab": {
          "base_uri": "https://localhost:8080/"
        },
        "outputId": "40d66138-9c48-4b70-cb39-ccb129f4c180"
      },
      "source": [
        "a = 6\n",
        "b = 9\n",
        "\n",
        "if a==b:\n",
        "    print(\"terkesekusi\")\n",
        "    print(\"Tes\")\n",
        "    \n",
        "print(\"Halo\") #jika kondisi terpenuhi/tidak 'halo' akan tetap muncul di output. Karena print(\"Halo\") di kondisi"
      ],
      "execution_count": null,
      "outputs": [
        {
          "output_type": "stream",
          "text": [
            "Halo\n"
          ],
          "name": "stdout"
        }
      ]
    },
    {
      "cell_type": "markdown",
      "metadata": {
        "id": "ZzzN6U1fdQ6A"
      },
      "source": [
        "**Statement if untuk dua kasus**\n",
        "\n",
        "Untuk pemilihan yang mengandung dua kasus, bentuk umum yang digunakan adalah : \n",
        "\n",
        "```python\n",
        "if kondisi :\n",
        "    statement1\n",
        "    statement2\n",
        "    ...\n",
        "else \n",
        "    statement_alternatif1\n",
        "    statement_alternatif2\n",
        "    ...\n",
        "```\n",
        "\n",
        "Pada bentuk ini, jika kondisi bernilai True makan statement selanjutnya yang akan dieksekusi oleh program adalah statement1, stetement 2 dan seterusnya. Tapi jika kondisi bernilai False, maka program akan mengeksekusi statement yang berada pada bagian else, yaitu statement_alternatif1, statement_alternatif2 dan seterusnya. \n",
        "\n",
        "Perhatikan contoh dibawah :"
      ]
    },
    {
      "cell_type": "code",
      "metadata": {
        "id": "MLFpuhyuttwQ",
        "colab": {
          "base_uri": "https://localhost:8080/"
        },
        "outputId": "3a583996-ac58-4c05-88a8-d2c93d483414"
      },
      "source": [
        "a = 5\n",
        "b = 0\n",
        "\n",
        "if a==b:\n",
        "    print(\"a dan b bernilai sama\")\n",
        "else:\n",
        "    print(\"a dan b bernilai berbeda\")\n",
        "    print(\"Halo\")"
      ],
      "execution_count": null,
      "outputs": [
        {
          "output_type": "stream",
          "text": [
            "a dan b bernilai berbeda\n",
            "Halo\n"
          ],
          "name": "stdout"
        }
      ]
    },
    {
      "cell_type": "code",
      "metadata": {
        "id": "wNY6NBgvdVqS",
        "colab": {
          "base_uri": "https://localhost:8080/"
        },
        "outputId": "1563298d-9b23-4529-f102-4f8e93e7dd43"
      },
      "source": [
        "# membaca dua angka\n",
        "bilangan1 = int(input(\"Masukkan bilangan pertama: \"))\n",
        "bilangan2 = int(input(\"Masukkan bilangan kedua: \"))\n",
        "\n",
        "# memilih bilangan yang lebih besar\n",
        "if bilangan1 > bilangan2:\n",
        "    bilangan_lebih_besar = bilangan1\n",
        "else:\n",
        "    bilangan_lebih_besar = bilangan2\n",
        "\n",
        "# menampilkan hasil\n",
        "print(\"Bilangan yang lebih besar adalah:\", bilangan_lebih_besar)"
      ],
      "execution_count": null,
      "outputs": [
        {
          "output_type": "stream",
          "text": [
            "Masukkan bilangan pertama: 8\n",
            "Masukkan bilangan kedua: 9\n",
            "Bilangan yang lebih besar adalah: 9\n"
          ],
          "name": "stdout"
        }
      ]
    },
    {
      "cell_type": "markdown",
      "metadata": {
        "id": "g-stdCvxdgpH"
      },
      "source": [
        "**Projek 1**\n",
        "\n",
        "Program mengecek Bilangan bulat atau ganjil"
      ]
    },
    {
      "cell_type": "code",
      "metadata": {
        "id": "_Bk5uBSjdnkj",
        "colab": {
          "base_uri": "https://localhost:8080/"
        },
        "outputId": "415b770f-c4fb-43e3-9b24-4316d7f98559"
      },
      "source": [
        "#Buat programmu di sini\n",
        "#Input bilangan integer\n",
        "x = int(input(\"Masukkan bilangan: \"))\n",
        "\n",
        "#Cek ganjil atau bukan\n",
        "if (x % 2)== 0:\n",
        "  print('x bukan merupakan bilangan ganjil')\n",
        "else:\n",
        "  print('x merupakan bilangan ganjil')"
      ],
      "execution_count": null,
      "outputs": [
        {
          "output_type": "stream",
          "text": [
            "Masukkan bilangan: 8\n",
            "x bukan merupakan bilangan ganjil\n"
          ],
          "name": "stdout"
        }
      ]
    },
    {
      "cell_type": "markdown",
      "metadata": {
        "id": "IsMv4i_Otuny"
      },
      "source": [
        "# **Looping/Perulangan**\n",
        "\n",
        "Python menyediakan dua statement untuk melakukan proses perulangan yaitu for dan while. Diantara kedua statement ini, secara umum for lebih banyak digunakan daripada while. \n",
        "\n",
        "**Statement while**\n",
        "\n",
        "Sama seperti kebanyakan bahasa pemrograman lainnya, Python juga mendukung statement while untuk melakukan perulangan satu atau sekelompok statement. Bentuk umum dari perulangan while adalah sebagai berikut : \n",
        "\n",
        "```python\n",
        "while kondisi:\n",
        "    statement1\n",
        "    statement2\n",
        "    statement1\n",
        "    :\n",
        "    :\n",
        "    statementn\n",
        "```\n",
        "Pada bentuk perulangan diatas, statement1, statement2 dan seterusnya merupakan sekelompok statement yang akan diulang. Statement tersebut akan terus dieksekusi/ diulang selama kondisi bernilai True. Maka diperlukan sebuah statement yang akan bernilai False, agar proses dapat berhenti. Perhatikan syntax berikut : \n"
      ]
    },
    {
      "cell_type": "code",
      "metadata": {
        "id": "OIKMcBigtxn6",
        "colab": {
          "base_uri": "https://localhost:8080/"
        },
        "outputId": "68a8f967-785a-473a-f6c2-f37c5362da61"
      },
      "source": [
        "i = 1\n",
        "while i<10:\n",
        "    print(i**2)\n",
        "    i = i+2"
      ],
      "execution_count": null,
      "outputs": [
        {
          "output_type": "stream",
          "text": [
            "1\n",
            "9\n",
            "25\n",
            "49\n",
            "81\n"
          ],
          "name": "stdout"
        }
      ]
    },
    {
      "cell_type": "markdown",
      "metadata": {
        "id": "uRS3JzUbe-az"
      },
      "source": [
        "Ketika i bernilai 10, maka proses akan terhenti karena nilai i = 10, maka proses akan berhenti .\n",
        "Perhatikan contoh dibawah ini:"
      ]
    },
    {
      "cell_type": "code",
      "metadata": {
        "id": "sujTtMTSe_9J",
        "colab": {
          "base_uri": "https://localhost:8080/"
        },
        "outputId": "eebb251c-e4cb-4c1f-a150-e19f484ec00f"
      },
      "source": [
        "# Menentukan bilangan terbesar awal dalam program ini\n",
        "bilangan_terbesar = -999999999\n",
        "\n",
        "# masukkan bilangan pertama\n",
        "bilangan = int(input(\"Masukkan suatu bilangan atau ketikkan -1 untuk berhenti: \"))\n",
        "\n",
        "# jika bilangan tidak sama dengan -1 maka program berlanjut\n",
        "while bilangan != -1:\n",
        "    # mengecek apakah bilangan tersebut adalah bilangan terbesar\n",
        "    if bilangan > bilangan_terbesar:\n",
        "        # ya, perbaharui bilangan_terbesar\n",
        "        bilangan_terbesar = bilangan\n",
        "    # masukan bilangan selanjutnya\n",
        "    number = int(input(\"Masukkan suatu bilangan atau ketikkan -1 untuk berhenti: \"))\n",
        "\n",
        "# menampilkan bilangan terbesar\n",
        "print(\"Bilangan terbesar adalah:\", bilangan_terbesar)"
      ],
      "execution_count": null,
      "outputs": [
        {
          "output_type": "stream",
          "text": [
            "Masukkan suatu bilangan atau ketikkan -1 untuk berhenti: -1\n"
          ],
          "name": "stdout"
        }
      ]
    },
    {
      "cell_type": "code",
      "metadata": {
        "id": "jEzFJ2sVXEYt"
      },
      "source": [
        "x = 1\n",
        "y = 2\n",
        "x + y*9"
      ],
      "execution_count": null,
      "outputs": []
    }
  ]
}