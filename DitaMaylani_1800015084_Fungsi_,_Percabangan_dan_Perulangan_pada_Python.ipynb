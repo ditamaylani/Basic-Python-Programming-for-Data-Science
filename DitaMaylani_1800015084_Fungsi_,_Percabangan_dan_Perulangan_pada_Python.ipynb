{
  "nbformat": 4,
  "nbformat_minor": 0,
  "metadata": {
    "colab": {
      "name": "DitaMaylani_1800015084_Fungsi_,_Percabangan_dan_Perulangan_pada_Python.ipynb",
      "provenance": [],
      "collapsed_sections": [],
      "authorship_tag": "ABX9TyPnaho3kwFh0HvwO3K4Xywy",
      "include_colab_link": true
    },
    "kernelspec": {
      "name": "python3",
      "display_name": "Python 3"
    },
    "language_info": {
      "name": "python"
    }
  },
  "cells": [
    {
      "cell_type": "markdown",
      "metadata": {
        "id": "view-in-github",
        "colab_type": "text"
      },
      "source": [
        "<a href=\"https://colab.research.google.com/github/ditamaylani/Basic-Python-Programming-for-Data-Science/blob/main/DitaMaylani_1800015084_Fungsi_%2C_Percabangan_dan_Perulangan_pada_Python.ipynb\" target=\"_parent\"><img src=\"https://colab.research.google.com/assets/colab-badge.svg\" alt=\"Open In Colab\"/></a>"
      ]
    },
    {
      "cell_type": "markdown",
      "metadata": {
        "id": "ClEQ-pb4DCh9"
      },
      "source": [
        "Buatlah Sebuah Fungsi dengan Input [LIST] dan Output genap ganjil dalam bentuk [LIST]"
      ]
    },
    {
      "cell_type": "code",
      "metadata": {
        "id": "Ew76vEAYDTsq",
        "colab": {
          "base_uri": "https://localhost:8080/"
        },
        "outputId": "b29f283b-a541-4859-c8a9-7e98ed56621b"
      },
      "source": [
        "bil_awal = int(input('Masukkan bilangan awal: '))\n",
        "bil_akhir = int(input('Masukkan bilangan akhir: '))\n",
        "\n",
        "list_bil = [i for i in range(bil_awal, bil_akhir + 1)]\n",
        "print('Daftar Bilangan: {}'.format(list_bil))\n",
        "\n",
        "bil_genap = []\n",
        "bil_ganjil = []\n",
        "\n",
        "for bil in list_bil:\n",
        "  if bil % 2 == 0:\n",
        "    bil_genap.append(bil)\n",
        "  else:\n",
        "    bil_ganjil.append(bil)\n",
        "\n",
        "print('Bilangan Genap: {}'.format(', '.join([str(bil) for bil in bil_genap])))\n",
        "print('Bilangan Ganjil: {}'.format(', '.join([str(bil) for bil in bil_ganjil])))"
      ],
      "execution_count": 1,
      "outputs": [
        {
          "output_type": "stream",
          "text": [
            "Masukkan bilangan awal: 1\n",
            "Masukkan bilangan akhir: 20\n",
            "Daftar Bilangan: [1, 2, 3, 4, 5, 6, 7, 8, 9, 10, 11, 12, 13, 14, 15, 16, 17, 18, 19, 20]\n",
            "Bilangan Genap: 2, 4, 6, 8, 10, 12, 14, 16, 18, 20\n",
            "Bilangan Ganjil: 1, 3, 5, 7, 9, 11, 13, 15, 17, 19\n"
          ],
          "name": "stdout"
        }
      ]
    }
  ]
}